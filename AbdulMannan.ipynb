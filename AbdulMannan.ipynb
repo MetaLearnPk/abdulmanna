{
 "cells": [
  {
   "cell_type": "markdown",
   "id": "e7150970",
   "metadata": {},
   "source": [
    "#Variable"
   ]
  },
  {
   "cell_type": "code",
   "execution_count": 2,
   "id": "bb740471",
   "metadata": {},
   "outputs": [
    {
     "name": "stdout",
     "output_type": "stream",
     "text": [
      "5\n",
      "Ali\n"
     ]
    }
   ],
   "source": [
    "x = 5\n",
    "name = \"Ali\"\n",
    "print(x)\n",
    "print(name)"
   ]
  },
  {
   "cell_type": "markdown",
   "id": "ee2dd4c0",
   "metadata": {},
   "source": [
    "##Snake case"
   ]
  },
  {
   "cell_type": "code",
   "execution_count": 3,
   "id": "21063de8",
   "metadata": {},
   "outputs": [
    {
     "name": "stdout",
     "output_type": "stream",
     "text": [
      "python\n"
     ]
    }
   ],
   "source": [
    "my_variable_name = \"python\"\n",
    "print(my_variable_name)"
   ]
  },
  {
   "cell_type": "markdown",
   "id": "dc42529f",
   "metadata": {},
   "source": [
    "##Camel case"
   ]
  },
  {
   "cell_type": "code",
   "execution_count": 5,
   "id": "7d1ef056",
   "metadata": {},
   "outputs": [
    {
     "name": "stdout",
     "output_type": "stream",
     "text": [
      "python\n"
     ]
    }
   ],
   "source": [
    "myVariableName = \"python\"\n",
    "print(myVariableName)"
   ]
  },
  {
   "cell_type": "markdown",
   "id": "31135477",
   "metadata": {},
   "source": [
    "##Pascal case"
   ]
  },
  {
   "cell_type": "code",
   "execution_count": 6,
   "id": "c8b2d111",
   "metadata": {},
   "outputs": [
    {
     "name": "stdout",
     "output_type": "stream",
     "text": [
      "python\n"
     ]
    }
   ],
   "source": [
    "MyVariableName = \"python\"\n",
    "print(MyVariableName)"
   ]
  },
  {
   "cell_type": "markdown",
   "id": "ab38639a",
   "metadata": {},
   "source": [
    "###syntax"
   ]
  },
  {
   "cell_type": "code",
   "execution_count": 7,
   "id": "4999c0da",
   "metadata": {},
   "outputs": [
    {
     "name": "stdout",
     "output_type": "stream",
     "text": [
      "value\n"
     ]
    }
   ],
   "source": [
    "variable_name = \"value\"\n",
    "print(variable_name)"
   ]
  },
  {
   "cell_type": "markdown",
   "id": "4472c363",
   "metadata": {},
   "source": [
    "###Variable Name"
   ]
  },
  {
   "cell_type": "code",
   "execution_count": 8,
   "id": "e89cd7cf",
   "metadata": {},
   "outputs": [
    {
     "name": "stdout",
     "output_type": "stream",
     "text": [
      "Apple\n"
     ]
    }
   ],
   "source": [
    "fruit = \"Apple\"\n",
    "print(fruit)"
   ]
  },
  {
   "cell_type": "markdown",
   "id": "4761ea0d",
   "metadata": {},
   "source": [
    "###Assignment operator"
   ]
  },
  {
   "cell_type": "code",
   "execution_count": 9,
   "id": "3c85ac91",
   "metadata": {},
   "outputs": [
    {
     "name": "stdout",
     "output_type": "stream",
     "text": [
      "Ali\n"
     ]
    }
   ],
   "source": [
    "name =\"Ali\"\n",
    "print(name)"
   ]
  },
  {
   "cell_type": "markdown",
   "id": "f2df63f8",
   "metadata": {},
   "source": [
    "###Value"
   ]
  },
  {
   "cell_type": "code",
   "execution_count": 10,
   "id": "2e998c59",
   "metadata": {},
   "outputs": [
    {
     "name": "stdout",
     "output_type": "stream",
     "text": [
      "Red\n"
     ]
    }
   ],
   "source": [
    "color = \"Red\"\n",
    "print(color)"
   ]
  }
 ],
 "metadata": {
  "kernelspec": {
   "display_name": "Python 3",
   "language": "python",
   "name": "python3"
  },
  "language_info": {
   "codemirror_mode": {
    "name": "ipython",
    "version": 3
   },
   "file_extension": ".py",
   "mimetype": "text/x-python",
   "name": "python",
   "nbconvert_exporter": "python",
   "pygments_lexer": "ipython3",
   "version": "3.12.7"
  }
 },
 "nbformat": 4,
 "nbformat_minor": 5
}
